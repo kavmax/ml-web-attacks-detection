{
 "cells": [
  {
   "cell_type": "markdown",
   "source": [
    "# Initial imports"
   ],
   "metadata": {
    "collapsed": false
   },
   "id": "52cf7f0b6723f757"
  },
  {
   "cell_type": "code",
   "execution_count": 1,
   "id": "initial_id",
   "metadata": {
    "collapsed": true,
    "ExecuteTime": {
     "end_time": "2024-01-09T20:14:57.235867700Z",
     "start_time": "2024-01-09T20:14:41.222384500Z"
    }
   },
   "outputs": [],
   "source": [
    "import re\n",
    "import os\n",
    "import json\n",
    "import random\n",
    "import numpy as np\n",
    "import pandas as pd\n",
    "\n",
    "from pathlib import Path\n",
    "from sklearn.model_selection import train_test_split\n",
    "from typing import List, Dict, Literal, Optional"
   ]
  },
  {
   "cell_type": "markdown",
   "source": [
    "# Config"
   ],
   "metadata": {
    "collapsed": false
   },
   "id": "302cc3724acab176"
  },
  {
   "cell_type": "code",
   "execution_count": 113,
   "outputs": [],
   "source": [
    "MAX_TEXT_LEN = 700\n",
    "MAX_TOKENS_LEN = 400"
   ],
   "metadata": {
    "collapsed": false,
    "ExecuteTime": {
     "end_time": "2024-01-09T22:56:17.499036Z",
     "start_time": "2024-01-09T22:56:17.436513500Z"
    }
   },
   "id": "8825901d6609d815"
  },
  {
   "cell_type": "markdown",
   "source": [
    "# Prepare additional data"
   ],
   "metadata": {
    "collapsed": false
   },
   "id": "b079ccf6cedd0f9f"
  },
  {
   "cell_type": "code",
   "execution_count": 112,
   "outputs": [],
   "source": [
    "def remove_duplicates(lines: List[str]) -> List[str]:\n",
    "    return list(set(lines))\n",
    "\n",
    "def read_unique_line_by_line(path: Path) -> List[str]:\n",
    "    return remove_duplicates(path.read_text(encoding='utf-8').split(\"\\n\"))\n",
    "\n",
    "def ignore_lines_with_spaces(lines: List[str]) -> List[str]:\n",
    "    return [line for line in lines if \" \" not in line]\n",
    "\n",
    "def random_select(lines: List[str], count: int) -> List[str]:\n",
    "    if count > 0:\n",
    "        return random.sample(lines, count)\n",
    "    else:\n",
    "        return lines\n",
    "\n",
    "def replace_chars(lines: List[str], replacements: dict) -> List[str]:\n",
    "    for k, v in replacements.items():\n",
    "        for idx, line in enumerate(lines):\n",
    "            print(idx)\n",
    "            lines[idx] = line.replace(k, str(v))\n",
    "            \n",
    "    return lines\n",
    "\n",
    "# TODO: read about annotations\n",
    "# TODO: read about * in Python"
   ],
   "metadata": {
    "collapsed": false,
    "ExecuteTime": {
     "end_time": "2024-01-09T22:56:00.284706100Z",
     "start_time": "2024-01-09T22:56:00.206099800Z"
    }
   },
   "id": "ee64ed256c029662"
  },
  {
   "cell_type": "code",
   "execution_count": 85,
   "outputs": [],
   "source": [
    "# URLs\n",
    "benign_url_lines = [\n",
    "    *read_unique_line_by_line(Path(\"./../../data/raw/benign_lines/good_urls.txt\")),\n",
    "    *random_select(\n",
    "        ignore_lines_with_spaces(\n",
    "            read_unique_line_by_line(Path(\"./../../data/raw/benign_lines/good_queries.txt\"))\n",
    "        ),\n",
    "        count=6000, # we don`t need all 1kk+ rows from origin data\n",
    "    ),\n",
    "    # *read_unique_line_by_line(Path(\"./../../data/raw/benign_lines/good_urls_with_sql.txt\")),\n",
    "]\n",
    "anomaly_url_lines = [\n",
    "    *random_select(\n",
    "        read_unique_line_by_line(Path(\"./../../data/raw/attack_lines/bad_queries.txt\")),\n",
    "        count=10000,\n",
    "    ),\n",
    "]\n",
    "\n",
    "# Injections\n",
    "injection_lines = [\n",
    "    *read_unique_line_by_line(Path(\"./../../data/raw/attack_lines/command_injection.txt\")),\n",
    "    *read_unique_line_by_line(Path(\"./../../data/raw/attack_lines/sql_injection.txt\")),\n",
    "    *read_unique_line_by_line(Path(\"./../../data/raw/attack_lines/xss.txt\")),\n",
    "]"
   ],
   "metadata": {
    "collapsed": false,
    "ExecuteTime": {
     "end_time": "2024-01-09T22:44:15.208931700Z",
     "start_time": "2024-01-09T22:44:09.227905800Z"
    }
   },
   "id": "99737439700fdf51"
  },
  {
   "cell_type": "code",
   "execution_count": 86,
   "outputs": [
    {
     "data": {
      "text/plain": "(6790, 10000, 2805)"
     },
     "execution_count": 86,
     "metadata": {},
     "output_type": "execute_result"
    }
   ],
   "source": [
    "len(benign_url_lines), len(anomaly_url_lines), len(injection_lines)\n",
    "# 17k anomaly, \n",
    "# +10k <- anomaly_url_lines from benign origin in GETs\n",
    "# +3k <- injection_lines from benign origin in GETs\n",
    "# ---- \n",
    "# 30k total\n",
    "\n",
    "# normal:\n",
    "# 22k \n",
    "# +8k <- benign_url_lines in GETs or POSTs\n",
    "# ----\n",
    "# 30k total"
   ],
   "metadata": {
    "collapsed": false,
    "ExecuteTime": {
     "end_time": "2024-01-09T22:44:15.303145700Z",
     "start_time": "2024-01-09T22:44:15.208931700Z"
    }
   },
   "id": "60851dcab8f637b9"
  },
  {
   "cell_type": "markdown",
   "source": [
    "# Prepare HTTP requests\n",
    "## Parse seq2seq vulnbank"
   ],
   "metadata": {
    "collapsed": false
   },
   "id": "1f48c17ae220a068"
  },
  {
   "cell_type": "code",
   "execution_count": 98,
   "outputs": [
    {
     "name": "stdout",
     "output_type": "stream",
     "text": [
      "Len before filter: 21991 in ./../../data/raw/seq2seq/vulnbank_train.txt\n",
      "Len after  filter: 10805 in ./../../data/raw/seq2seq/vulnbank_train.txt\n",
      "Len after  removing_duplicates: 10292 in ./../../data/raw/seq2seq/vulnbank_train.txt\n",
      "Len before filter: 1098 in ./../../data/raw/seq2seq/vulnbank_anomaly.txt\n",
      "Len after  filter: 1097 in ./../../data/raw/seq2seq/vulnbank_anomaly.txt\n",
      "Len after  removing_duplicates: 1078 in ./../../data/raw/seq2seq/vulnbank_anomaly.txt\n"
     ]
    }
   ],
   "source": [
    "def split_vulnbank(file_content: str) -> List[str]:\n",
    "    start_split_chunks = file_content.split(\"ST@RT\")\n",
    "    return [chunk.split(\"END\")[0] for chunk in start_split_chunks]\n",
    "\n",
    "def remove_empty(chunks: List[str]) -> List[str]:\n",
    "    return [chunk for chunk in chunks if chunk != \"\\n\"]\n",
    "\n",
    "def remove_lines_with_vals(chunks: List[str], contain_vals: List[str], exactly_vals: List[str]) -> List[str]:\n",
    "    new_chunks = []\n",
    "    \n",
    "    for chunk in chunks:\n",
    "        new_chunk = []\n",
    "        chunk_lines = chunk.split(\"\\n\")\n",
    "        \n",
    "        for chunk_line in chunk_lines:\n",
    "            append_line = True\n",
    "            \n",
    "            for contain_val in contain_vals:\n",
    "                if contain_val in chunk_line:\n",
    "                    append_line = False\n",
    "                    break\n",
    "                    \n",
    "            for exactly_val in exactly_vals:\n",
    "                if exactly_val == chunk_line:\n",
    "                    append_line = False \n",
    "                    break\n",
    "                \n",
    "            if append_line:\n",
    "                new_chunk.append(chunk_line)\n",
    "            \n",
    "        new_chunks.append(\"\\n\".join(new_chunk))\n",
    "            \n",
    "    return new_chunks\n",
    "\n",
    "# def save_txt(chunks: List[str]):\n",
    "#     with open('./../../data/interim/vulnbank_train.txt', 'w') as filehandle:\n",
    "#         for chunk in chunks:\n",
    "#             filehandle.writelines(chunk + \"\\n\\n\\n\")\n",
    "\n",
    "def filter_chunks_by_len(chunks: List[str], filter_len: int) -> List[str]:\n",
    "    return [chunk for chunk in chunks if (len(chunk) <= filter_len) and len(chunk) > 0]\n",
    "\n",
    "def prepare_seq2seq_data(path: str, filter_len: int) -> List[str]:\n",
    "    chunks = remove_lines_with_vals(\n",
    "        remove_empty(split_vulnbank(Path(path).read_text())),\n",
    "        contain_vals=[\"15 Mar 2018\"],\n",
    "        exactly_vals=[\"\"],\n",
    "    )\n",
    "    print(f\"Len before filter: {len(chunks)} in {path}\")\n",
    "    chunks = filter_chunks_by_len(chunks, filter_len=filter_len)\n",
    "    print(f\"Len after  filter: {len(chunks)} in {path}\")\n",
    "    chunks = remove_duplicates(chunks)\n",
    "    print(f\"Len after  removing_duplicates: {len(chunks)} in {path}\")    \n",
    "    return chunks\n",
    "\n",
    "seq2seq_benign_chunks = prepare_seq2seq_data(\"./../../data/raw/seq2seq/vulnbank_train.txt\", filter_len=MAX_TEXT_LEN)\n",
    "seq2seq_anomaly_chunks = prepare_seq2seq_data(\"./../../data/raw/seq2seq/vulnbank_anomaly.txt\", filter_len=10**5)"
   ],
   "metadata": {
    "collapsed": false,
    "ExecuteTime": {
     "end_time": "2024-01-09T22:50:47.989924Z",
     "start_time": "2024-01-09T22:50:46.594097400Z"
    }
   },
   "id": "dbbad5a8156c665e"
  },
  {
   "cell_type": "code",
   "execution_count": 88,
   "outputs": [],
   "source": [
    "def get_min_row_len(chunks: List[str]):    \n",
    "    min_len = 10e10\n",
    "    min_idx = 0\n",
    "    for idx, chunk in enumerate(chunks):\n",
    "        if len(chunk) < min_len:\n",
    "            min_len = len(chunk)\n",
    "            min_idx = idx\n",
    "            \n",
    "    print(min_len, min_idx)\n",
    "    print(chunks[min_idx])\n",
    "\n",
    "def get_max_row_len(chunks: List[str]):\n",
    "    max_len = 0\n",
    "    max_idx = 0\n",
    "    for idx, chunk in enumerate(chunks):\n",
    "        if len(chunk) > max_len:\n",
    "            max_len = len(chunk)\n",
    "            max_idx = idx\n",
    "            \n",
    "    print(max_len, max_idx)\n",
    "    print(chunks[max_idx])"
   ],
   "metadata": {
    "collapsed": false,
    "ExecuteTime": {
     "end_time": "2024-01-09T22:44:45.406135100Z",
     "start_time": "2024-01-09T22:44:45.327611100Z"
    }
   },
   "id": "9b6a7234ae381ef4"
  },
  {
   "cell_type": "markdown",
   "source": [
    "## Parse csic2010\n"
   ],
   "metadata": {
    "collapsed": false
   },
   "id": "9e51d9a891edf863"
  },
  {
   "cell_type": "code",
   "execution_count": 43,
   "outputs": [
    {
     "data": {
      "text/plain": "(72000, 25065)"
     },
     "execution_count": 43,
     "metadata": {},
     "output_type": "execute_result"
    }
   ],
   "source": [
    "def split_csic2010(file_content: str) -> List[str]:\n",
    "    return re.findall(\n",
    "        pattern=r\"(?:GET|POST|PUT)[\\s\\S]+?(?=\\n*POST|\\n*GET|\\n*PUT)|(?:GET|POST|PUT)[\\s\\S]+\", \n",
    "        string=file_content\n",
    "    )\n",
    "    \n",
    "csic2010_benign_chunks = [\n",
    "    *split_csic2010(Path(\"./../../data/raw/csic2010/normalTrafficTraining.txt\").read_text()),\n",
    "    *split_csic2010(Path(\"./../../data/raw/csic2010/normalTrafficTest.txt\").read_text()),\n",
    "]\n",
    "\n",
    "csic2010_anomaly_chunks = split_csic2010(Path(\"./../../data/raw/csic2010/anomalousTrafficTest.txt\").read_text())\n",
    "\n",
    "len(csic2010_benign_chunks), len(csic2010_anomaly_chunks)"
   ],
   "metadata": {
    "collapsed": false,
    "ExecuteTime": {
     "end_time": "2024-01-09T21:32:31.243975600Z",
     "start_time": "2024-01-09T21:32:21.739168700Z"
    }
   },
   "id": "c55f1128b4273e8e"
  },
  {
   "cell_type": "code",
   "execution_count": 124,
   "outputs": [
    {
     "name": "stdout",
     "output_type": "stream",
     "text": [
      "Len before removing_duplicates: 72000 for benign\n",
      "Len after  removing_duplicates: 72000 for benign\n",
      "Len before removing_duplicates: 25065 for attack\n",
      "Len after  removing_duplicates: 25065 for attack\n"
     ]
    }
   ],
   "source": [
    "print(f\"Len before removing_duplicates: {len(csic2010_benign_chunks)} for benign\")\n",
    "csic2010_benign_chunks = remove_duplicates(csic2010_benign_chunks)\n",
    "print(f\"Len after  removing_duplicates: {len(csic2010_benign_chunks)} for benign\")\n",
    "\n",
    "print(f\"Len before removing_duplicates: {len(csic2010_anomaly_chunks)} for attack\")\n",
    "csic2010_anomaly_chunks = remove_duplicates(csic2010_anomaly_chunks)\n",
    "print(f\"Len after  removing_duplicates: {len(csic2010_anomaly_chunks)} for attack\")"
   ],
   "metadata": {
    "collapsed": false,
    "ExecuteTime": {
     "end_time": "2024-01-09T23:00:52.149717700Z",
     "start_time": "2024-01-09T23:00:52.070691100Z"
    }
   },
   "id": "483180702d14399e"
  },
  {
   "cell_type": "code",
   "execution_count": 9,
   "outputs": [],
   "source": [
    "# get_max_row_len(csic2010_anomaly_chunks)"
   ],
   "metadata": {
    "collapsed": false,
    "ExecuteTime": {
     "end_time": "2024-01-09T20:15:18.098924400Z",
     "start_time": "2024-01-09T20:15:17.999366900Z"
    }
   },
   "id": "4c6366d6d12e158e"
  },
  {
   "cell_type": "code",
   "execution_count": 127,
   "outputs": [
    {
     "name": "stdout",
     "output_type": "stream",
     "text": [
      "64000\n",
      "19004\n"
     ]
    }
   ],
   "source": [
    "print(len(filter_chunks_by_len(csic2010_benign_chunks, MAX_TEXT_LEN)))\n",
    "print(len(filter_chunks_by_len(csic2010_anomaly_chunks, MAX_TEXT_LEN)))"
   ],
   "metadata": {
    "collapsed": false,
    "ExecuteTime": {
     "end_time": "2024-01-09T23:01:37.627251900Z",
     "start_time": "2024-01-09T23:01:37.533049700Z"
    }
   },
   "id": "af55c410227f937e"
  },
  {
   "cell_type": "markdown",
   "source": [
    "# Prepare openappsec"
   ],
   "metadata": {
    "collapsed": false
   },
   "id": "6009b826f691a745"
  },
  {
   "cell_type": "markdown",
   "source": [
    "## Prepare all data for validation "
   ],
   "metadata": {
    "collapsed": false
   },
   "id": "c30e7b3338a643d0"
  },
  {
   "cell_type": "code",
   "execution_count": 10,
   "outputs": [],
   "source": [
    "openappsec_anomaly_dir_path = \"./../../data/raw/openappsec/malicious/\"\n",
    "openappsec_benign_dir_path = \"./../../data/raw/openappsec/legitimate/\""
   ],
   "metadata": {
    "collapsed": false,
    "ExecuteTime": {
     "end_time": "2024-01-09T20:15:18.205394600Z",
     "start_time": "2024-01-09T20:15:18.027408700Z"
    }
   },
   "id": "ca614abed36cadc4"
  },
  {
   "cell_type": "code",
   "execution_count": 11,
   "outputs": [],
   "source": [
    "def parse_json_request(text_json: dict):\n",
    "    rows = [\n",
    "        f\"{text_json['method']} {text_json['url']} HTTP/1.1\"\n",
    "    ]\n",
    "\n",
    "    # append headers\n",
    "    for k, v in text_json[\"headers\"].items():\n",
    "        rows.append(f\"{k}: {v}\")\n",
    "\n",
    "    # append data if contains\n",
    "    rows.append(text_json[\"data\"])\n",
    "\n",
    "    return \"\\n\".join(rows)\n",
    "\n",
    "def read_chunks_from_dir(dir_path):\n",
    "    files = os.listdir(dir_path)\n",
    "    chunks = []\n",
    "    \n",
    "    for file in files:\n",
    "        content = Path(dir_path + file).read_text()\n",
    "        content_items_json = json.loads(content)\n",
    "        \n",
    "        for content_item_json in content_items_json:\n",
    "            chunks.append(parse_json_request(content_item_json))\n",
    "    \n",
    "    return chunks\n",
    "\n",
    "openappsec_benign_chunks = read_chunks_from_dir(openappsec_benign_dir_path)\n",
    "openappsec_anomaly_chunks = read_chunks_from_dir(openappsec_anomaly_dir_path)"
   ],
   "metadata": {
    "collapsed": false,
    "ExecuteTime": {
     "end_time": "2024-01-09T20:16:13.447195800Z",
     "start_time": "2024-01-09T20:15:18.060930600Z"
    }
   },
   "id": "dce50deec120b6fb"
  },
  {
   "cell_type": "code",
   "execution_count": 90,
   "outputs": [
    {
     "data": {
      "text/plain": "(973964, 73924)"
     },
     "execution_count": 90,
     "metadata": {},
     "output_type": "execute_result"
    }
   ],
   "source": [
    "len(openappsec_benign_chunks), len(openappsec_anomaly_chunks)"
   ],
   "metadata": {
    "collapsed": false,
    "ExecuteTime": {
     "end_time": "2024-01-09T22:45:08.945093300Z",
     "start_time": "2024-01-09T22:45:08.865379600Z"
    }
   },
   "id": "61e4c24937ecd8d0"
  },
  {
   "cell_type": "code",
   "execution_count": 91,
   "outputs": [
    {
     "data": {
      "text/plain": "(178514, 73924)"
     },
     "execution_count": 91,
     "metadata": {},
     "output_type": "execute_result"
    }
   ],
   "source": [
    "unique_openappsec_benign_chunks = list(set(openappsec_benign_chunks))\n",
    "unique_openappsec_anomaly_chunks = list(set(openappsec_anomaly_chunks))\n",
    "\n",
    "len(unique_openappsec_benign_chunks), len(unique_openappsec_anomaly_chunks)"
   ],
   "metadata": {
    "collapsed": false,
    "ExecuteTime": {
     "end_time": "2024-01-09T22:45:26.001250700Z",
     "start_time": "2024-01-09T22:45:25.974587700Z"
    }
   },
   "id": "1658134d0a9b903e"
  },
  {
   "cell_type": "code",
   "execution_count": 14,
   "outputs": [
    {
     "name": "stdout",
     "output_type": "stream",
     "text": [
      "around 5 duplicates per row\n"
     ]
    },
    {
     "data": {
      "text/plain": "5"
     },
     "execution_count": 14,
     "metadata": {},
     "output_type": "execute_result"
    }
   ],
   "source": [
    "print(\"around 5 duplicates per row\")\n",
    "openappsec_benign_chunks.count(openappsec_benign_chunks[45435])"
   ],
   "metadata": {
    "collapsed": false,
    "ExecuteTime": {
     "end_time": "2024-01-09T20:16:16.281265900Z",
     "start_time": "2024-01-09T20:16:16.126138600Z"
    }
   },
   "id": "fbbd482551ca92a1"
  },
  {
   "cell_type": "markdown",
   "source": [
    "## Remove Cookie, filter len, make unique"
   ],
   "metadata": {
    "collapsed": false
   },
   "id": "38915bb3569c86c"
  },
  {
   "cell_type": "code",
   "execution_count": 145,
   "outputs": [
    {
     "name": "stdout",
     "output_type": "stream",
     "text": [
      "Len before filter: 178514\n",
      "Len after  filter: 82197\n",
      "Len before filter: 73924\n",
      "Len after  filter: 73853\n"
     ]
    }
   ],
   "source": [
    "def prepare_openappsec_dataset(chunks):\n",
    "    chunks = remove_lines_with_vals(\n",
    "        chunks,\n",
    "        contain_vals=[\"Cookie:\"],\n",
    "        exactly_vals=[\"\"],\n",
    "    )\n",
    "    print(f\"Len before filter: {len(chunks)}\")\n",
    "    chunks = filter_chunks_by_len(chunks, filter_len=MAX_TEXT_LEN)\n",
    "    print(f\"Len after  filter: {len(chunks)}\")\n",
    "    return remove_duplicates(chunks)\n",
    "    \n",
    "filtered_openappsec_benign_chunks = prepare_openappsec_dataset(unique_openappsec_benign_chunks)\n",
    "filtered_openappsec_anomaly_chunks = prepare_openappsec_dataset(unique_openappsec_anomaly_chunks)\n"
   ],
   "metadata": {
    "collapsed": false,
    "ExecuteTime": {
     "end_time": "2024-01-09T23:13:15.386086500Z",
     "start_time": "2024-01-09T23:13:09.495578200Z"
    }
   },
   "id": "dfad3abcce007dbf"
  },
  {
   "cell_type": "markdown",
   "source": [
    "Save data for testing final model to compare with \n",
    "https://www.openappsec.io/post/best-waf-solutions-in-2023-real-world-comparison"
   ],
   "metadata": {
    "collapsed": false
   },
   "id": "971f7647d5696e31"
  },
  {
   "cell_type": "code",
   "execution_count": 146,
   "outputs": [],
   "source": [
    "# save all data for validation purposes\n",
    "benign_y = [1] * len(filtered_openappsec_benign_chunks)\n",
    "anomaly_y = [0] * len(filtered_openappsec_anomaly_chunks)\n",
    "\n",
    "data = {\n",
    "    \"text\": [*filtered_openappsec_benign_chunks, *filtered_openappsec_anomaly_chunks],\n",
    "    \"benign\": [*benign_y, *anomaly_y]\n",
    "}\n",
    "df = pd.DataFrame(data)"
   ],
   "metadata": {
    "collapsed": false,
    "ExecuteTime": {
     "end_time": "2024-01-09T23:13:19.275765400Z",
     "start_time": "2024-01-09T23:13:19.099984800Z"
    }
   },
   "id": "de12895c53056ddf"
  },
  {
   "cell_type": "code",
   "execution_count": 51,
   "outputs": [
    {
     "data": {
      "text/plain": "              benign\ncount  172133.000000\nmean        0.570797\nstd         0.494964\nmin         0.000000\n25%         0.000000\n50%         1.000000\n75%         1.000000\nmax         1.000000",
      "text/html": "<div>\n<style scoped>\n    .dataframe tbody tr th:only-of-type {\n        vertical-align: middle;\n    }\n\n    .dataframe tbody tr th {\n        vertical-align: top;\n    }\n\n    .dataframe thead th {\n        text-align: right;\n    }\n</style>\n<table border=\"1\" class=\"dataframe\">\n  <thead>\n    <tr style=\"text-align: right;\">\n      <th></th>\n      <th>benign</th>\n    </tr>\n  </thead>\n  <tbody>\n    <tr>\n      <th>count</th>\n      <td>172133.000000</td>\n    </tr>\n    <tr>\n      <th>mean</th>\n      <td>0.570797</td>\n    </tr>\n    <tr>\n      <th>std</th>\n      <td>0.494964</td>\n    </tr>\n    <tr>\n      <th>min</th>\n      <td>0.000000</td>\n    </tr>\n    <tr>\n      <th>25%</th>\n      <td>0.000000</td>\n    </tr>\n    <tr>\n      <th>50%</th>\n      <td>1.000000</td>\n    </tr>\n    <tr>\n      <th>75%</th>\n      <td>1.000000</td>\n    </tr>\n    <tr>\n      <th>max</th>\n      <td>1.000000</td>\n    </tr>\n  </tbody>\n</table>\n</div>"
     },
     "execution_count": 51,
     "metadata": {},
     "output_type": "execute_result"
    }
   ],
   "source": [
    "df.describe()"
   ],
   "metadata": {
    "collapsed": false,
    "ExecuteTime": {
     "end_time": "2024-01-09T21:35:41.280898700Z",
     "start_time": "2024-01-09T21:35:41.155009400Z"
    }
   },
   "id": "5df52efe0dfe58f3"
  },
  {
   "cell_type": "code",
   "execution_count": 18,
   "outputs": [
    {
     "data": {
      "text/plain": "                                                     text  benign\n0       GET /system/extImages/ZVC7zCtgG1b9a2plZCVaEhdW...       1\n1       GET /on/demandware.static/Sites-mandslondon-Si...       1\n2       GET /v1/pages/ChRDaHJvbWUvMTA1LjAuNTE5NS41NBIQ...       1\n3       GET /maps/vt?pb=!1m5!1m4!1i15!2i16135!3i10624!...       1\n4       GET /s3/web4static/_/v2/static/chunks/a68825.2...       1\n...                                                   ...     ...\n181823  POST / HTTP/1.1\\nUser-Agent: Mozilla/5.0 (Wind...       0\n181824  GET /?p=..%5C..%5C..%5C..%5C..%5Cetc%5Cissue%0...       0\n181825  POST / HTTP/1.1\\nUser-Agent: Mozilla/5.0 (Wind...       0\n181826  GET /?p=%3Ctbody%20onbeforepaste%3D%22prompt%2...       0\n181827  GET /?p=%3Crb%20onmouseover%3D%22alert%281%29%...       0\n\n[181828 rows x 2 columns]",
      "text/html": "<div>\n<style scoped>\n    .dataframe tbody tr th:only-of-type {\n        vertical-align: middle;\n    }\n\n    .dataframe tbody tr th {\n        vertical-align: top;\n    }\n\n    .dataframe thead th {\n        text-align: right;\n    }\n</style>\n<table border=\"1\" class=\"dataframe\">\n  <thead>\n    <tr style=\"text-align: right;\">\n      <th></th>\n      <th>text</th>\n      <th>benign</th>\n    </tr>\n  </thead>\n  <tbody>\n    <tr>\n      <th>0</th>\n      <td>GET /system/extImages/ZVC7zCtgG1b9a2plZCVaEhdW...</td>\n      <td>1</td>\n    </tr>\n    <tr>\n      <th>1</th>\n      <td>GET /on/demandware.static/Sites-mandslondon-Si...</td>\n      <td>1</td>\n    </tr>\n    <tr>\n      <th>2</th>\n      <td>GET /v1/pages/ChRDaHJvbWUvMTA1LjAuNTE5NS41NBIQ...</td>\n      <td>1</td>\n    </tr>\n    <tr>\n      <th>3</th>\n      <td>GET /maps/vt?pb=!1m5!1m4!1i15!2i16135!3i10624!...</td>\n      <td>1</td>\n    </tr>\n    <tr>\n      <th>4</th>\n      <td>GET /s3/web4static/_/v2/static/chunks/a68825.2...</td>\n      <td>1</td>\n    </tr>\n    <tr>\n      <th>...</th>\n      <td>...</td>\n      <td>...</td>\n    </tr>\n    <tr>\n      <th>181823</th>\n      <td>POST / HTTP/1.1\\nUser-Agent: Mozilla/5.0 (Wind...</td>\n      <td>0</td>\n    </tr>\n    <tr>\n      <th>181824</th>\n      <td>GET /?p=..%5C..%5C..%5C..%5C..%5Cetc%5Cissue%0...</td>\n      <td>0</td>\n    </tr>\n    <tr>\n      <th>181825</th>\n      <td>POST / HTTP/1.1\\nUser-Agent: Mozilla/5.0 (Wind...</td>\n      <td>0</td>\n    </tr>\n    <tr>\n      <th>181826</th>\n      <td>GET /?p=%3Ctbody%20onbeforepaste%3D%22prompt%2...</td>\n      <td>0</td>\n    </tr>\n    <tr>\n      <th>181827</th>\n      <td>GET /?p=%3Crb%20onmouseover%3D%22alert%281%29%...</td>\n      <td>0</td>\n    </tr>\n  </tbody>\n</table>\n<p>181828 rows × 2 columns</p>\n</div>"
     },
     "execution_count": 18,
     "metadata": {},
     "output_type": "execute_result"
    }
   ],
   "source": [
    "df"
   ],
   "metadata": {
    "collapsed": false,
    "ExecuteTime": {
     "end_time": "2024-01-09T20:16:19.758876400Z",
     "start_time": "2024-01-09T20:16:19.570507Z"
    }
   },
   "id": "22a2b93417e3c04a"
  },
  {
   "cell_type": "code",
   "execution_count": 147,
   "outputs": [],
   "source": [
    "# df.to_csv(\"./../../data/processed/openappsec_final_comparison.csv\", index=False, escapechar=\"~\")"
   ],
   "metadata": {
    "collapsed": false,
    "ExecuteTime": {
     "end_time": "2024-01-09T23:13:42.203221700Z",
     "start_time": "2024-01-09T23:13:36.957585500Z"
    }
   },
   "id": "ee2542d6d3c78505"
  },
  {
   "cell_type": "markdown",
   "source": [
    "Get data for dataset"
   ],
   "metadata": {
    "collapsed": false
   },
   "id": "5fd9b4ff1cbdcc90"
  },
  {
   "cell_type": "code",
   "execution_count": 129,
   "outputs": [
    {
     "data": {
      "text/plain": "(78000, 73853)"
     },
     "execution_count": 129,
     "metadata": {},
     "output_type": "execute_result"
    }
   ],
   "source": [
    "# random selected to make data balanced\n",
    "# balanced data for dataset\n",
    "final_openappsec_benign_chunks = random_select(filtered_openappsec_benign_chunks, 78000)\n",
    "final_openappsec_anomaly_chunks = filtered_openappsec_anomaly_chunks\n",
    "\n",
    "len(final_openappsec_benign_chunks), len(final_openappsec_anomaly_chunks)"
   ],
   "metadata": {
    "collapsed": false,
    "ExecuteTime": {
     "end_time": "2024-01-09T23:02:34.691010200Z",
     "start_time": "2024-01-09T23:02:34.571057800Z"
    }
   },
   "id": "9a0627cf245623c9"
  },
  {
   "cell_type": "markdown",
   "source": [
    "# Combine and prepare"
   ],
   "metadata": {
    "collapsed": false
   },
   "id": "ce49219cd132361d"
  },
  {
   "cell_type": "code",
   "execution_count": 130,
   "outputs": [
    {
     "data": {
      "text/plain": "(82292, 26143)"
     },
     "execution_count": 130,
     "metadata": {},
     "output_type": "execute_result"
    }
   ],
   "source": [
    "# do not include openappsec, use it later\n",
    "all_benign_chunks = [*csic2010_benign_chunks, *seq2seq_benign_chunks]\n",
    "all_anomaly_chunks = [*csic2010_anomaly_chunks, *seq2seq_anomaly_chunks]\n",
    "\n",
    "len(all_benign_chunks), len(all_anomaly_chunks)"
   ],
   "metadata": {
    "collapsed": false,
    "ExecuteTime": {
     "end_time": "2024-01-09T23:02:41.585433100Z",
     "start_time": "2024-01-09T23:02:41.491230200Z"
    }
   },
   "id": "dd460bdb6a8ef7d1"
  },
  {
   "cell_type": "code",
   "execution_count": 132,
   "outputs": [
    {
     "name": "stdout",
     "output_type": "stream",
     "text": [
      "After removing duplicates. Cookie header had random values\n",
      "26143 11765\n",
      "82292 14052\n"
     ]
    }
   ],
   "source": [
    "def filter_headers(chunks: List[str]) -> List[str]:\n",
    "    new_chunks = []\n",
    "    \n",
    "    for chunk in chunks:\n",
    "        new_chunk = []\n",
    "        for line in chunk.split(\"\\n\"):\n",
    "            modified_line = line\n",
    "            \n",
    "            if line.startswith(\"Cookie:\"):\n",
    "                continue\n",
    "            \n",
    "            new_chunk.append(modified_line)\n",
    "        new_chunks.append(\"\\n\".join(new_chunk))\n",
    "    \n",
    "    return new_chunks\n",
    "\n",
    "print(\"After removing duplicates. Cookie header had random values\")\n",
    "unique_anomaly_chunks = filter_chunks_by_len(remove_duplicates(filter_headers(all_anomaly_chunks)), MAX_TEXT_LEN)\n",
    "unique_benign_chunks = filter_chunks_by_len(remove_duplicates(filter_headers(all_benign_chunks)), MAX_TEXT_LEN)\n",
    "\n",
    "print(len(filter_headers(all_anomaly_chunks)), len(unique_anomaly_chunks))\n",
    "print(len(filter_headers(all_benign_chunks)), len(unique_benign_chunks))"
   ],
   "metadata": {
    "collapsed": false,
    "ExecuteTime": {
     "end_time": "2024-01-09T23:03:44.985937900Z",
     "start_time": "2024-01-09T23:03:40.570395600Z"
    }
   },
   "id": "7cbaf7088c3ee6ca"
  },
  {
   "cell_type": "markdown",
   "source": [
    "## Append new attack lines to data"
   ],
   "metadata": {
    "collapsed": false
   },
   "id": "aabc6162cb4cc551"
  },
  {
   "cell_type": "code",
   "execution_count": 133,
   "outputs": [
    {
     "data": {
      "text/plain": "(6790, 7845)"
     },
     "execution_count": 133,
     "metadata": {},
     "output_type": "execute_result"
    }
   ],
   "source": [
    "def append_url_lines_to_requests(url_lines: List[str], chunks: List[str], get_only: bool = False) -> List[str]:\n",
    "    new_chunks = []\n",
    "    url_lines_copy = url_lines.copy()\n",
    "    shuffled_chunks = chunks.copy()\n",
    "    np.random.shuffle(shuffled_chunks)\n",
    "    \n",
    "    for chunk in shuffled_chunks:\n",
    "        if len(url_lines_copy) <= 0:\n",
    "            break\n",
    "        \n",
    "        chunk_lines = chunk.split(\"\\n\")\n",
    "        if chunk_lines[0].startswith(\"GET \"):\n",
    "            chunk_lines[0] = f\"GET {url_lines_copy.pop()} HTTP/1.1\"\n",
    "        elif chunk_lines[0].startswith(\"POST \") and not get_only:\n",
    "            append_url = url_lines_copy.pop()\n",
    "            base_url = append_url.split(\"?\")[0]\n",
    "            chunk_lines[-1] = \"\"\n",
    "            \n",
    "            chunk_lines[0] = f\"POST {base_url} HTTP/1.1\"\n",
    "            if len(append_url.split(\"?\")) > 1:\n",
    "                chunk_lines[-1] = append_url[len(base_url)+1:]\n",
    "        else:\n",
    "            continue\n",
    "            \n",
    "        new_chunks.append(\"\\n\".join(chunk_lines))\n",
    "        \n",
    "    return new_chunks\n",
    "    \n",
    "additional_benign_chunks = append_url_lines_to_requests(benign_url_lines, unique_benign_chunks)\n",
    "additional_anomaly_chunks = append_url_lines_to_requests(anomaly_url_lines, unique_benign_chunks, get_only=True)\n",
    "\n",
    "len(additional_benign_chunks), len(additional_anomaly_chunks)"
   ],
   "metadata": {
    "collapsed": false,
    "ExecuteTime": {
     "end_time": "2024-01-09T23:04:01.432760200Z",
     "start_time": "2024-01-09T23:04:01.354716Z"
    }
   },
   "id": "a48e60ad5cbe3e55"
  },
  {
   "cell_type": "code",
   "execution_count": 106,
   "outputs": [
    {
     "data": {
      "text/plain": "['GET http://localhost:8080/tienda1/publico/anadir.jsp?id=<input onfocus=javascript:alert(1) autofocus> HTTP/1.1\\nUser-Agent: Mozilla/5.0 (compatible; Konqueror/3.5; Linux) KHTML/3.5.8 (like Gecko)\\nPragma: no-cache\\nCache-control: no-cache\\nAccept: text/xml,application/xml,application/xhtml+xml,text/html;q=0.9,text/plain;q=0.8,image/png,*/*;q=0.5\\nAccept-Encoding: x-gzip, x-deflate, gzip, deflate\\nAccept-Charset: utf-8, utf-8;q=0.5, *;q=0.5\\nAccept-Language: en\\nHost: localhost:8080\\nConnection: close',\n 'GET http://localhost:8080/tienda1/publico/registro.jsp?modo=<SCRIPT>document.cookie=true;</SCRIPT>&ntc=1373405933057290&B1=Registrar HTTP/1.1\\nUser-Agent: Mozilla/5.0 (compatible; Konqueror/3.5; Linux) KHTML/3.5.8 (like Gecko)\\nPragma: no-cache\\nCache-control: no-cache\\nAccept: text/xml,application/xml,application/xhtml+xml,text/html;q=0.9,text/plain;q=0.8,image/png,*/*;q=0.5\\nAccept-Encoding: x-gzip, x-deflate, gzip, deflate\\nAccept-Charset: utf-8, utf-8;q=0.5, *;q=0.5\\nAccept-Language: en\\nHost: localhost:8080\\nConnection: close']"
     },
     "execution_count": 106,
     "metadata": {},
     "output_type": "execute_result"
    }
   ],
   "source": [
    "def append_injection_to_requests(injection_code: List[str], chunks: List[str]) -> List[str]:\n",
    "    new_chunks = []\n",
    "    search_url_params_pattern = \"([&|?]\\w+=[0-9a-zA-Z\\+\\%.*]+)\"\n",
    "    injection_code_copy = injection_code.copy()\n",
    "    shuffled_chunks = chunks.copy()\n",
    "    np.random.shuffle(shuffled_chunks)\n",
    "    \n",
    "    for chunk in shuffled_chunks:\n",
    "        if len(injection_code_copy) <= 0:\n",
    "            break\n",
    "            \n",
    "        chunk_lines = chunk.split(\"\\n\")\n",
    "        first_line =  chunk_lines[0]\n",
    "        \n",
    "        if chunk_lines[0].startswith(\"GET \"):\n",
    "            params = re.findall(search_url_params_pattern, first_line)\n",
    "            \n",
    "            if len(params):\n",
    "                random_param = random.choice(params)\n",
    "                insert_in = first_line.find(random_param) + len(random_param)\n",
    "                \n",
    "                chunk_lines[0] = chunk_lines[0][:insert_in].split(\"=\")[0] + \"=\" + injection_code_copy.pop() + chunk_lines[0][insert_in:] \n",
    "            else:\n",
    "                continue\n",
    "\n",
    "            new_chunks.append(\"\\n\".join(chunk_lines))\n",
    "    \n",
    "    return new_chunks\n",
    "\n",
    "append_injection_to_requests(injection_lines, unique_benign_chunks)[:2]"
   ],
   "metadata": {
    "collapsed": false,
    "ExecuteTime": {
     "end_time": "2024-01-09T22:54:32.142453600Z",
     "start_time": "2024-01-09T22:54:32.032644200Z"
    }
   },
   "id": "bb9a62586fc1accb"
  },
  {
   "cell_type": "code",
   "execution_count": 25,
   "outputs": [
    {
     "data": {
      "text/plain": "'<input onfocus=javascript:alert(1) autofocus>'"
     },
     "execution_count": 25,
     "metadata": {},
     "output_type": "execute_result"
    }
   ],
   "source": [
    "injection_lines[-1]"
   ],
   "metadata": {
    "collapsed": false,
    "ExecuteTime": {
     "end_time": "2024-01-09T20:16:24.069458100Z",
     "start_time": "2024-01-09T20:16:24.022153400Z"
    }
   },
   "id": "b88700befdf84dba"
  },
  {
   "cell_type": "code",
   "execution_count": 134,
   "outputs": [
    {
     "name": "stdout",
     "output_type": "stream",
     "text": [
      "10650 6790\n",
      "2805 10000 6790\n"
     ]
    }
   ],
   "source": [
    "additional_anomaly_chunks = [\n",
    "    *append_injection_to_requests(injection_lines, unique_benign_chunks),\n",
    "    *append_url_lines_to_requests(anomaly_url_lines, unique_benign_chunks, get_only=True)\n",
    "]\n",
    "additional_benign_chunks = append_url_lines_to_requests(benign_url_lines, unique_benign_chunks)\n",
    "\n",
    "print(len(additional_anomaly_chunks), len(additional_benign_chunks))\n",
    "print(len(injection_lines), len(anomaly_url_lines), len(benign_url_lines))"
   ],
   "metadata": {
    "collapsed": false,
    "ExecuteTime": {
     "end_time": "2024-01-09T23:04:11.038509200Z",
     "start_time": "2024-01-09T23:04:10.921095300Z"
    }
   },
   "id": "42174ae681f7e084"
  },
  {
   "cell_type": "markdown",
   "source": [
    "# Save data"
   ],
   "metadata": {
    "collapsed": false
   },
   "id": "e04a0599be62f280"
  },
  {
   "cell_type": "code",
   "execution_count": 135,
   "outputs": [
    {
     "name": "stdout",
     "output_type": "stream",
     "text": [
      "98842 96268\n",
      "98842 96268\n",
      "No duplicates, data is balanced\n"
     ]
    }
   ],
   "source": [
    "final_anomaly_chunks = [\n",
    "    *additional_anomaly_chunks,\n",
    "    *unique_anomaly_chunks,\n",
    "    *final_openappsec_anomaly_chunks,\n",
    "]\n",
    "final_benign_chunks = [\n",
    "    *additional_benign_chunks,\n",
    "    *unique_benign_chunks,\n",
    "    *final_openappsec_benign_chunks,\n",
    "]\n",
    "\n",
    "print(len(final_benign_chunks), len(final_anomaly_chunks))\n",
    "print(len(remove_duplicates(final_benign_chunks)), len(remove_duplicates(final_anomaly_chunks)))\n",
    "print(\"No duplicates, data is balanced\")"
   ],
   "metadata": {
    "collapsed": false,
    "ExecuteTime": {
     "end_time": "2024-01-09T23:04:16.255143Z",
     "start_time": "2024-01-09T23:04:16.098000100Z"
    }
   },
   "id": "a7abfc437ad6d893"
  },
  {
   "cell_type": "code",
   "execution_count": 136,
   "outputs": [
    {
     "name": "stdout",
     "output_type": "stream",
     "text": [
      "98842\n",
      "Tokens 350.0 233.33333333333334\n",
      "96060\n",
      "Tokens 350.0 233.33333333333334\n"
     ]
    }
   ],
   "source": [
    "def check(chunks):\n",
    "    text_len = MAX_TEXT_LEN\n",
    "    print(len(filter_chunks_by_len(chunks, text_len)))\n",
    "    print(\"Tokens\", text_len / 2, text_len / 3)\n",
    "    \n",
    "check(final_benign_chunks)\n",
    "check(final_anomaly_chunks)"
   ],
   "metadata": {
    "collapsed": false,
    "ExecuteTime": {
     "end_time": "2024-01-09T23:04:27.286336Z",
     "start_time": "2024-01-09T23:04:27.197310600Z"
    }
   },
   "id": "44c15732246173d7"
  },
  {
   "cell_type": "markdown",
   "source": [
    "Shuffle and create .csv"
   ],
   "metadata": {
    "collapsed": false
   },
   "id": "88f770f52453237b"
  },
  {
   "cell_type": "code",
   "execution_count": 137,
   "outputs": [],
   "source": [
    "np.random.shuffle(final_benign_chunks)\n",
    "np.random.shuffle(final_anomaly_chunks)"
   ],
   "metadata": {
    "collapsed": false,
    "ExecuteTime": {
     "end_time": "2024-01-09T23:05:32.411444800Z",
     "start_time": "2024-01-09T23:05:32.317260900Z"
    }
   },
   "id": "24e7a3db0b61de87"
  },
  {
   "cell_type": "code",
   "execution_count": 138,
   "outputs": [],
   "source": [
    "benign_y = [1] * len(final_benign_chunks)\n",
    "anomaly_y = [0] * len(final_anomaly_chunks)\n",
    "\n",
    "data = {\n",
    "    \"text\": [*final_benign_chunks, *final_anomaly_chunks],\n",
    "    \"benign\": [*benign_y, *anomaly_y]\n",
    "}\n",
    "df = pd.DataFrame(data)"
   ],
   "metadata": {
    "collapsed": false,
    "ExecuteTime": {
     "end_time": "2024-01-09T23:05:35.159489500Z",
     "start_time": "2024-01-09T23:05:34.873423100Z"
    }
   },
   "id": "66b3fca3ce2a556"
  },
  {
   "cell_type": "code",
   "execution_count": 140,
   "outputs": [
    {
     "data": {
      "text/plain": "              benign\ncount  195110.000000\nmean        0.506596\nstd         0.499958\nmin         0.000000\n25%         0.000000\n50%         1.000000\n75%         1.000000\nmax         1.000000",
      "text/html": "<div>\n<style scoped>\n    .dataframe tbody tr th:only-of-type {\n        vertical-align: middle;\n    }\n\n    .dataframe tbody tr th {\n        vertical-align: top;\n    }\n\n    .dataframe thead th {\n        text-align: right;\n    }\n</style>\n<table border=\"1\" class=\"dataframe\">\n  <thead>\n    <tr style=\"text-align: right;\">\n      <th></th>\n      <th>benign</th>\n    </tr>\n  </thead>\n  <tbody>\n    <tr>\n      <th>count</th>\n      <td>195110.000000</td>\n    </tr>\n    <tr>\n      <th>mean</th>\n      <td>0.506596</td>\n    </tr>\n    <tr>\n      <th>std</th>\n      <td>0.499958</td>\n    </tr>\n    <tr>\n      <th>min</th>\n      <td>0.000000</td>\n    </tr>\n    <tr>\n      <th>25%</th>\n      <td>0.000000</td>\n    </tr>\n    <tr>\n      <th>50%</th>\n      <td>1.000000</td>\n    </tr>\n    <tr>\n      <th>75%</th>\n      <td>1.000000</td>\n    </tr>\n    <tr>\n      <th>max</th>\n      <td>1.000000</td>\n    </tr>\n  </tbody>\n</table>\n</div>"
     },
     "execution_count": 140,
     "metadata": {},
     "output_type": "execute_result"
    }
   ],
   "source": [
    "df.describe()"
   ],
   "metadata": {
    "collapsed": false,
    "ExecuteTime": {
     "end_time": "2024-01-09T23:06:36.218848600Z",
     "start_time": "2024-01-09T23:06:36.109024300Z"
    }
   },
   "id": "25cc6bdf6290017b"
  },
  {
   "cell_type": "code",
   "execution_count": 143,
   "outputs": [
    {
     "data": {
      "text/plain": "(117066, 50729, 27315)"
     },
     "execution_count": 143,
     "metadata": {},
     "output_type": "execute_result"
    }
   ],
   "source": [
    "df_train, df_test = train_test_split(df, test_size=0.4, shuffle=True, random_state=228)\n",
    "df_val, df_test = train_test_split(df_test, test_size=0.65, random_state=228)\n",
    "\n",
    "len(df_train), len(df_test), len(df_val)"
   ],
   "metadata": {
    "collapsed": false,
    "ExecuteTime": {
     "end_time": "2024-01-09T23:07:26.816429300Z",
     "start_time": "2024-01-09T23:07:26.674857600Z"
    }
   },
   "id": "9d45f234f22a2e92"
  }
 ],
 "metadata": {
  "kernelspec": {
   "display_name": "Python 3",
   "language": "python",
   "name": "python3"
  },
  "language_info": {
   "codemirror_mode": {
    "name": "ipython",
    "version": 2
   },
   "file_extension": ".py",
   "mimetype": "text/x-python",
   "name": "python",
   "nbconvert_exporter": "python",
   "pygments_lexer": "ipython2",
   "version": "2.7.6"
  }
 },
 "nbformat": 4,
 "nbformat_minor": 5
}
