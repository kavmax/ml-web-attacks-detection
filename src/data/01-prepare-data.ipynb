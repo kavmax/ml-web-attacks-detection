{
 "cells": [
  {
   "cell_type": "markdown",
   "source": [
    "# Initial imports"
   ],
   "metadata": {
    "collapsed": false
   },
   "id": "52cf7f0b6723f757"
  },
  {
   "cell_type": "code",
   "execution_count": 252,
   "id": "initial_id",
   "metadata": {
    "collapsed": true,
    "ExecuteTime": {
     "end_time": "2024-01-04T20:49:12.987139600Z",
     "start_time": "2024-01-04T20:49:10.049703700Z"
    }
   },
   "outputs": [],
   "source": [
    "import re\n",
    "import random\n",
    "import numpy as np\n",
    "import pandas as pd\n",
    "\n",
    "from pathlib import Path\n",
    "from typing import List, Dict, Literal, Optional"
   ]
  },
  {
   "cell_type": "markdown",
   "source": [
    "# Prepare additional data"
   ],
   "metadata": {
    "collapsed": false
   },
   "id": "b079ccf6cedd0f9f"
  },
  {
   "cell_type": "code",
   "execution_count": 3,
   "outputs": [],
   "source": [
    "def remove_duplicates(lines: List[str]) -> List[str]:\n",
    "    return list(set(lines))\n",
    "\n",
    "def read_unique_line_by_line(path: Path) -> List[str]:\n",
    "    return remove_duplicates(path.read_text(encoding='utf-8').split(\"\\n\"))\n",
    "\n",
    "def ignore_lines_with_spaces(lines: List[str]) -> List[str]:\n",
    "    return [line for line in lines if \" \" not in line]\n",
    "\n",
    "def random_select(lines: List[str], count: int) -> List[str]:\n",
    "    if count > 0:\n",
    "        return random.sample(lines, count)\n",
    "    else:\n",
    "        return lines\n",
    "\n",
    "def replace_chars(lines: List[str], replacements: dict) -> List[str]:\n",
    "    for k, v in replacements.items():\n",
    "        for idx, line in enumerate(lines):\n",
    "            print(idx)\n",
    "            lines[idx] = line.replace(k, str(v))\n",
    "            \n",
    "    return lines\n",
    "\n",
    "# TODO: read about annotations\n",
    "# TODO: read about * in Python"
   ],
   "metadata": {
    "collapsed": false,
    "ExecuteTime": {
     "end_time": "2024-01-04T17:24:07.596451200Z",
     "start_time": "2024-01-04T17:24:07.383768700Z"
    }
   },
   "id": "ee64ed256c029662"
  },
  {
   "cell_type": "code",
   "execution_count": 179,
   "outputs": [],
   "source": [
    "# URLs\n",
    "benign_url_lines = [\n",
    "    *read_unique_line_by_line(Path(\"./../../data/raw/benign_lines/good_urls.txt\")),\n",
    "    *random_select(\n",
    "        ignore_lines_with_spaces(\n",
    "            read_unique_line_by_line(Path(\"./../../data/raw/benign_lines/good_queries.txt\"))\n",
    "        ),\n",
    "        count=6000, # we don`t need all 1kk+ rows from origin data\n",
    "    ),\n",
    "    *read_unique_line_by_line(Path(\"./../../data/raw/benign_lines/good_urls_with_sql.txt\")),\n",
    "]\n",
    "anomaly_url_lines = [\n",
    "    *random_select(\n",
    "        read_unique_line_by_line(Path(\"./../../data/raw/attack_lines/bad_queries.txt\")),\n",
    "        count=10000,\n",
    "    ),\n",
    "]\n",
    "\n",
    "# Injections\n",
    "injection_lines = [\n",
    "    *read_unique_line_by_line(Path(\"./../../data/raw/attack_lines/command_injection.txt\")),\n",
    "    *read_unique_line_by_line(Path(\"./../../data/raw/attack_lines/sql_injection.txt\")),\n",
    "    *read_unique_line_by_line(Path(\"./../../data/raw/attack_lines/xss.txt\")),\n",
    "]"
   ],
   "metadata": {
    "collapsed": false,
    "ExecuteTime": {
     "end_time": "2024-01-04T18:26:15.913893300Z",
     "start_time": "2024-01-04T18:26:12.893305600Z"
    }
   },
   "id": "99737439700fdf51"
  },
  {
   "cell_type": "code",
   "execution_count": 181,
   "outputs": [
    {
     "data": {
      "text/plain": "(7777, 10000, 2805)"
     },
     "execution_count": 181,
     "metadata": {},
     "output_type": "execute_result"
    }
   ],
   "source": [
    "len(benign_url_lines), len(anomaly_url_lines), len(injection_lines)\n",
    "# 17k anomaly, \n",
    "# +10k <- anomaly_url_lines from benign origin in GETs\n",
    "# +3k <- injection_lines from benign origin in GETs\n",
    "# ---- \n",
    "# 30k total\n",
    "\n",
    "# normal:\n",
    "# 22k \n",
    "# +8k <- benign_url_lines in GETs or POSTs\n",
    "# ----\n",
    "# 30k total"
   ],
   "metadata": {
    "collapsed": false,
    "ExecuteTime": {
     "end_time": "2024-01-04T18:27:18.955013300Z",
     "start_time": "2024-01-04T18:27:18.848544800Z"
    }
   },
   "id": "60851dcab8f637b9"
  },
  {
   "cell_type": "code",
   "execution_count": 98,
   "outputs": [
    {
     "data": {
      "text/plain": "'?p_id=user123&comment=Swipe_right!+You_seem_interesting.'"
     },
     "execution_count": 98,
     "metadata": {},
     "output_type": "execute_result"
    }
   ],
   "source": [
    "'http://faketinder.com/profile?p_id=user123&comment=Swipe_right!+You_seem_interesting.'[len('http://faketinder.com/profile?p_id=user123&comment=Swipe_right!+You_seem_interesting.'.split(\"?\")[0]):]"
   ],
   "metadata": {
    "collapsed": false,
    "ExecuteTime": {
     "end_time": "2024-01-04T18:00:15.728829900Z",
     "start_time": "2024-01-04T18:00:15.651277900Z"
    }
   },
   "id": "69427103b18d3887"
  },
  {
   "cell_type": "code",
   "execution_count": 245,
   "outputs": [
    {
     "data": {
      "text/plain": "['\\\\n/usr/bin/id|',\n '%0Acat%20/etc/passwd',\n '& uname -a',\n '<?php system(\"echo XXXXXXXXXXXXXXXXXXXXXXXXXXXXXXXXXXXXXXXXXXXXXXXXXXXXXXXXXXXXXXXXXXXXXXXXXXXXXXXXXXXXXXXXXXXXXXXXXXXXXXXXXXXXXXXXXXXXXXXXXXXXXXXXXXXXXXXXXXXXXXXXXXXXXXXXXXXXXXXXXXXXXXXXXXXXXXXXXXXXXXXXXXXXXXXXXXXXXXXXXXXXXXXXXXXXXXXXXXXXXXXXXXXXXXXXXXXXXXXXXXXXXXXXXXXXXXXXXXXXXXXXXXXXXXXXXXXXXXXXXXXXXXXXXXXXXXXXXXXXXXXXXXXXXXXXXXXXXXXXXXXXXXXXXXXXXXXXXXXXXXXXXXXXXXXXXXXXXXXXXXXXXXXXXXXXXXXXXXXXXXXXXXXXXXXXXXXXXXXXXXXXXXXXXXXXXXXXXXXXXXXXXXXXXXXXXXXXXXXXXXXXXXXXXXXXXXXXXXXXXXXXXXXXXXXXXXXXXXXXXXXXXXXXXXXXXXXXXXXXXXXXXXXXXXXXXXXXXXXXXXXXXXXXXXXXXXXXXXXXXXXXXXXXXXXXXXXXXXXXXXXXXXXXXXXXXXXXXXXXXXXXXXXXXXXXXXXXXXXXXXXXXXXXXXXXXXXXXXXXXXXXXXXXXXXXXXXXXXXXXXXXXXXXXXXXXXXXXXXXXXXXXXXXXXXXXXXXXXXXXXXXXXXXXXXXXXXXXXXXXXXXXXXXXXXXXXXXXXXXXXXXXXXXXXXXXXXXXXXXXXXXXXXXXXXXXXXXXXXXXXXXXXXXXXXXXXXXXXXXXXXXXXXXXXXXXXXXXXXXXXXXXXXXXXXXXXXXXXXXXXXXXXXXXXXXXXXXXXXXXXXXXXXXXXXXXXXXXXXXXXXXXXXXXXXXXXXXXXXXXXXXXXXXXXXXXXXXXXXXXXXXXXXXXXXXXXXXXXXXXXXXXXXXXXXXXXXXXXXXXXXXXXXXXXXXXXXXXXXXXXXXXXXXXXXXXXXXXXXXXXXXXXXXXXXXXXXXXXXXXXXXXXXXXXXXXXXXXXXXXXXXXXXXXXXXXXXXXXXXXXXXXXXXXXXXXXXXXXXXXXXXXXXXXXXXXXXXXXXXXXXXXXXXXXXXXXXXXXXXXXXXXXXXXXXXXXXXXXXXXXXXXXXXXXXXXXXXXXXXXXXXXXXXXXXXXXXXXXXXXXXXXXXXXXXXXXXXXXXXXXXXXXXXXXXXXXXXXXXXXXXXXXXXXXXXXXXXXXXXXXXXXXXXXXXXXXXXXXXXXXXXXXXXXXXXXXXXXXXXXXXXXXXXXXXXXXXXXXXXXXXXXXXXXXXXXXXXXXXXXXXXXXXXXXXXXXXXXXXXXXXXXXXXXXXXXXXXXXXXXXXXXXXXXXXXXXXXXXXXXXXXXXXXXXXXXXXXXXXXXXXXXXXXXXXXXXXXXXXXXXXXXXXXXXXXXXXXXXXXXXXXXXXXXXXXXXXXXXXXXXXXXXXXXXXXXXXXXXXXXXXXXXXXXXXXXXXXXXXXXXXXXXXXXXXXXXXXXXXX\");?>']"
     },
     "execution_count": 245,
     "metadata": {},
     "output_type": "execute_result"
    }
   ],
   "source": [
    "injection_lines[:4]"
   ],
   "metadata": {
    "collapsed": false,
    "ExecuteTime": {
     "end_time": "2024-01-04T20:32:38.563198100Z",
     "start_time": "2024-01-04T20:32:38.496816400Z"
    }
   },
   "id": "213c8db59dca32e5"
  },
  {
   "cell_type": "code",
   "execution_count": 7,
   "outputs": [],
   "source": [
    "# The data is ready, now we need to parse request lines and insert it there"
   ],
   "metadata": {
    "collapsed": false,
    "ExecuteTime": {
     "end_time": "2024-01-04T17:24:16.267256Z",
     "start_time": "2024-01-04T17:24:16.220349300Z"
    }
   },
   "id": "e15bd9b78e3d4d3"
  },
  {
   "cell_type": "markdown",
   "source": [
    "# Prepare HTTP requests\n",
    "## Parse seq2seq vulnbank"
   ],
   "metadata": {
    "collapsed": false
   },
   "id": "1f48c17ae220a068"
  },
  {
   "cell_type": "code",
   "execution_count": 8,
   "outputs": [
    {
     "name": "stdout",
     "output_type": "stream",
     "text": [
      "Len before filter: 21991 in ./../../data/raw/seq2seq/vulnbank_train.txt\n",
      "Len after  filter: 19246 in ./../../data/raw/seq2seq/vulnbank_train.txt\n",
      "Len after  removing_duplicates: 18125 in ./../../data/raw/seq2seq/vulnbank_train.txt\n",
      "Len before filter: 1098 in ./../../data/raw/seq2seq/vulnbank_anomaly.txt\n",
      "Len after  filter: 1097 in ./../../data/raw/seq2seq/vulnbank_anomaly.txt\n",
      "Len after  removing_duplicates: 1078 in ./../../data/raw/seq2seq/vulnbank_anomaly.txt\n"
     ]
    }
   ],
   "source": [
    "def split_vulnbank(file_content: str) -> List[str]:\n",
    "    start_split_chunks = file_content.split(\"ST@RT\")\n",
    "    return [chunk.split(\"END\")[0] for chunk in start_split_chunks]\n",
    "\n",
    "def remove_empty(chunks: List[str]) -> List[str]:\n",
    "    return [chunk for chunk in chunks if chunk != \"\\n\"]\n",
    "\n",
    "def remove_lines_with_vals(chunks: List[str], contain_vals: List[str], exactly_vals: List[str]) -> List[str]:\n",
    "    new_chunks = []\n",
    "    \n",
    "    for chunk in chunks:\n",
    "        new_chunk = []\n",
    "        chunk_lines = chunk.split(\"\\n\")\n",
    "        \n",
    "        for chunk_line in chunk_lines:\n",
    "            append_line = True\n",
    "            \n",
    "            for contain_val in contain_vals:\n",
    "                if contain_val in chunk_line:\n",
    "                    append_line = False\n",
    "                    break\n",
    "                    \n",
    "            for exactly_val in exactly_vals:\n",
    "                if exactly_val == chunk_line:\n",
    "                    append_line = False \n",
    "                    break\n",
    "                \n",
    "            if append_line:\n",
    "                new_chunk.append(chunk_line)\n",
    "            \n",
    "        new_chunks.append(\"\\n\".join(new_chunk))\n",
    "            \n",
    "    return new_chunks\n",
    "\n",
    "# def save_txt(chunks: List[str]):\n",
    "#     with open('./../../data/interim/vulnbank_train.txt', 'w') as filehandle:\n",
    "#         for chunk in chunks:\n",
    "#             filehandle.writelines(chunk + \"\\n\\n\\n\")\n",
    "\n",
    "def filter_chunks_by_len(chunks: List[str], filter_len: int) -> List[str]:\n",
    "    return [chunk for chunk in chunks if (len(chunk) <= filter_len) and len(chunk) > 0]\n",
    "\n",
    "def prepare_seq2seq_data(path: str, filter_len: int) -> List[str]:\n",
    "    chunks = remove_lines_with_vals(\n",
    "        remove_empty(split_vulnbank(Path(path).read_text())),\n",
    "        contain_vals=[\"15 Mar 2018\"],\n",
    "        exactly_vals=[\"\"],\n",
    "    )\n",
    "    print(f\"Len before filter: {len(chunks)} in {path}\")\n",
    "    chunks = filter_chunks_by_len(chunks, filter_len=filter_len)\n",
    "    print(f\"Len after  filter: {len(chunks)} in {path}\")\n",
    "    chunks = remove_duplicates(chunks)\n",
    "    print(f\"Len after  removing_duplicates: {len(chunks)} in {path}\")    \n",
    "    return chunks\n",
    "\n",
    "seq2seq_benign_chunks = prepare_seq2seq_data(\"./../../data/raw/seq2seq/vulnbank_train.txt\", filter_len=900)\n",
    "seq2seq_anomaly_chunks = prepare_seq2seq_data(\"./../../data/raw/seq2seq/vulnbank_anomaly.txt\", filter_len=10**5)"
   ],
   "metadata": {
    "collapsed": false,
    "ExecuteTime": {
     "end_time": "2024-01-04T17:24:16.659974800Z",
     "start_time": "2024-01-04T17:24:16.235991700Z"
    }
   },
   "id": "dbbad5a8156c665e"
  },
  {
   "cell_type": "code",
   "execution_count": 9,
   "outputs": [
    {
     "name": "stdout",
     "output_type": "stream",
     "text": [
      "2109 16053\n",
      "\n",
      "Thu, 15 Mar 2018 14:45:52 INFO\n",
      "POST /vulnbank/online/api.php HTTP/1.1\n",
      "Host: 10.0.212.25\n",
      "Connection: close\n",
      "Content-Length: 122\n",
      "Accept: application/json, text/javascript, */*; q=0.01\n",
      "Origin: http://10.0.212.25\n",
      "X-Requested-With: XMLHttpRequest\n",
      "User-Agent: Mozilla/5.0 (Macintosh; Intel Mac OS X 10_13_3) AppleWebKit/604.5.6 (KHTML, like Gecko) Version/11.0.3 Safari/604.5.6\n",
      "Content-Type: application/x-www-form-urlencoded; charset=UTF-8\n",
      "Referer: http://10.0.212.25/vulnbank/online/transactions.php\n",
      "Accept-Encoding: gzip, deflate\n",
      "Accept-Language: en-US,en;q=0.9\n",
      "Cookie: PHPSESSID=c4ca4238a0b923820dcc509a6f\n",
      "\n",
      "type=user&action=check&firstname=Theodore&lastname=Sales&creditcard=5325-0124-0353-9606&recipient=DE44444635142635466464\n",
      "POST /vulnbank/online/api.php HTTP/1.1\n",
      "Host: 10.0.212.25\n",
      "Connection: close\n",
      "Content-Length: 122\n",
      "Accept: application/json, text/javascript, */*; q=0.01\n",
      "Origin: http://10.0.212.25\n",
      "X-Requested-With: XMLHttpRequest\n",
      "User-Agent: Mozilla/5.0 (Windows NT 10.0; Win64; x64) AppleWebKit/537.36 (KHTML, like Gecko) Chrome/64.0.3282.186 Safari/537.36\n",
      "Content-Type: application/x-www-form-urlencoded; charset=UTF-8\n",
      "Referer: http://10.0.212.25/vulnbank/online/transactions.php\n",
      "Accept-Encoding: gzip, deflate\n",
      "Accept-Language: en-US,en;q=0.9\n",
      "Cookie: PHPSESSID=c4ca4238a0b923820dcc509a6f\n",
      "\n",
      "type=user&action=check&firstname=Theodore&lastname=Sales&creditcard=5325-0124-0353-9606&recipient=DE44444635142635466464\n",
      "POST /vulnbank/online/api.php HTTP/1.1\n",
      "Host: 10.0.212.25\n",
      "Connection: close\n",
      "Content-Length: 122\n",
      "Accept: application/json, text/javascript, */*; q=0.01\n",
      "Origin: http://10.0.212.25\n",
      "X-Requested-With: XMLHttpRequest\n",
      "User-Agent: Mozilla/5.0 (Windows NT 6.1; Win64; x64) AppleWebKit/537.36 (KHTML, like Gecko) Chrome/64.0.3282.186 Safari/537.36\n",
      "Content-Type: application/x-www-form-urlencoded; charset=UTF-8\n",
      "Referer: http://10.0.212.25/vulnbank/online/transactions.php\n",
      "Accept-Encoding: gzip, deflate\n",
      "Accept-Language: en-US,en;q=0.9\n",
      "Cookie: PHPSESSID=c4ca4238a0b923820dcc509a6f\n",
      "\n",
      "type=user&action=check&firstname=Theodore&lastname=Sales&creditcard=5325-0124-0353-9606&recipient=DE44444635142635466464\n"
     ]
    }
   ],
   "source": [
    "def get_min_row_len(chunks: List[str]):    \n",
    "    min_len = 10e10\n",
    "    min_idx = 0\n",
    "    for idx, chunk in enumerate(chunks):\n",
    "        if len(chunk) < min_len:\n",
    "            min_len = len(chunk)\n",
    "            min_idx = idx\n",
    "            \n",
    "    print(min_len, min_idx)\n",
    "    print(chunks[min_idx])\n",
    "\n",
    "def get_max_row_len(chunks: List[str]):\n",
    "    max_len = 0\n",
    "    max_idx = 0\n",
    "    for idx, chunk in enumerate(chunks):\n",
    "        if len(chunk) > max_len:\n",
    "            max_len = len(chunk)\n",
    "            max_idx = idx\n",
    "            \n",
    "    print(max_len, max_idx)\n",
    "    print(chunks[max_idx])\n",
    "    \n",
    "# if len > 900 we can skip it\n",
    "\n",
    "# get_min_row_len(split_vulnbank(Path(\"./../../data/raw/seq2seq/vulnbank_anomaly.txt\").read_text())[1:])\n",
    "get_max_row_len(split_vulnbank(Path(\"./../../data/raw/seq2seq/vulnbank_train.txt\").read_text())[1:])"
   ],
   "metadata": {
    "collapsed": false,
    "ExecuteTime": {
     "end_time": "2024-01-04T17:24:16.857217300Z",
     "start_time": "2024-01-04T17:24:16.659974800Z"
    }
   },
   "id": "9b6a7234ae381ef4"
  },
  {
   "cell_type": "markdown",
   "source": [
    "## Parse csic2010\n"
   ],
   "metadata": {
    "collapsed": false
   },
   "id": "9e51d9a891edf863"
  },
  {
   "cell_type": "code",
   "execution_count": 10,
   "outputs": [
    {
     "data": {
      "text/plain": "(72000, 25065)"
     },
     "execution_count": 10,
     "metadata": {},
     "output_type": "execute_result"
    }
   ],
   "source": [
    "def split_csic2010(file_content: str) -> List[str]:\n",
    "    return re.findall(\n",
    "        pattern=r\"(?:GET|POST|PUT)[\\s\\S]+?(?=\\n*POST|\\n*GET|\\n*PUT)|(?:GET|POST|PUT)[\\s\\S]+\", \n",
    "        string=file_content\n",
    "    )\n",
    "    \n",
    "csic2010_benign_chunks = [\n",
    "    *split_csic2010(Path(\"./../../data/raw/csic2010/normalTrafficTraining.txt\").read_text()),\n",
    "    *split_csic2010(Path(\"./../../data/raw/csic2010/normalTrafficTest.txt\").read_text()),\n",
    "]\n",
    "\n",
    "csic2010_anomaly_chunks = split_csic2010(Path(\"./../../data/raw/csic2010/anomalousTrafficTest.txt\").read_text())\n",
    "\n",
    "len(csic2010_benign_chunks), len(csic2010_anomaly_chunks)"
   ],
   "metadata": {
    "collapsed": false,
    "ExecuteTime": {
     "end_time": "2024-01-04T17:24:23.427388600Z",
     "start_time": "2024-01-04T17:24:16.859121200Z"
    }
   },
   "id": "c55f1128b4273e8e"
  },
  {
   "cell_type": "code",
   "execution_count": 11,
   "outputs": [
    {
     "name": "stdout",
     "output_type": "stream",
     "text": [
      "Len before removing_duplicates: 72000 for benign\n",
      "Len after  removing_duplicates: 72000 for benign\n",
      "Len before removing_duplicates: 25065 for attack\n",
      "Len after  removing_duplicates: 25065 for attack\n"
     ]
    }
   ],
   "source": [
    "print(f\"Len before removing_duplicates: {len(csic2010_benign_chunks)} for benign\")\n",
    "csic2010_benign_chunks = remove_duplicates(csic2010_benign_chunks)\n",
    "print(f\"Len after  removing_duplicates: {len(csic2010_benign_chunks)} for benign\")\n",
    "\n",
    "print(f\"Len before removing_duplicates: {len(csic2010_anomaly_chunks)} for attack\")\n",
    "csic2010_anomaly_chunks = remove_duplicates(csic2010_anomaly_chunks)\n",
    "print(f\"Len after  removing_duplicates: {len(csic2010_anomaly_chunks)} for attack\")"
   ],
   "metadata": {
    "collapsed": false,
    "ExecuteTime": {
     "end_time": "2024-01-04T17:24:23.542724500Z",
     "start_time": "2024-01-04T17:24:23.432877Z"
    }
   },
   "id": "483180702d14399e"
  },
  {
   "cell_type": "code",
   "execution_count": 12,
   "outputs": [],
   "source": [
    "# get_max_row_len(csic2010_anomaly_chunks)"
   ],
   "metadata": {
    "collapsed": false,
    "ExecuteTime": {
     "end_time": "2024-01-04T17:24:23.620887100Z",
     "start_time": "2024-01-04T17:24:23.542724500Z"
    }
   },
   "id": "4c6366d6d12e158e"
  },
  {
   "cell_type": "markdown",
   "source": [
    "## Combine and prepare"
   ],
   "metadata": {
    "collapsed": false
   },
   "id": "ce49219cd132361d"
  },
  {
   "cell_type": "code",
   "execution_count": 13,
   "outputs": [
    {
     "data": {
      "text/plain": "(90125, 26143)"
     },
     "execution_count": 13,
     "metadata": {},
     "output_type": "execute_result"
    }
   ],
   "source": [
    "all_benign_chunks = [*csic2010_benign_chunks, *seq2seq_benign_chunks]\n",
    "all_anomaly_chunks = [*csic2010_anomaly_chunks, *seq2seq_anomaly_chunks]\n",
    "\n",
    "len(all_benign_chunks), len(all_anomaly_chunks)"
   ],
   "metadata": {
    "collapsed": false,
    "ExecuteTime": {
     "end_time": "2024-01-04T17:24:23.636925600Z",
     "start_time": "2024-01-04T17:24:23.558442700Z"
    }
   },
   "id": "dd460bdb6a8ef7d1"
  },
  {
   "cell_type": "code",
   "execution_count": 182,
   "outputs": [
    {
     "name": "stdout",
     "output_type": "stream",
     "text": [
      "After removing duplicates. Cookie header had random values\n",
      "26143 17013\n",
      "90125 21573\n"
     ]
    }
   ],
   "source": [
    "def filter_headers(chunks: List[str]) -> List[str]:\n",
    "    new_chunks = []\n",
    "    \n",
    "    for chunk in chunks:\n",
    "        new_chunk = []\n",
    "        for line in chunk.split(\"\\n\"):\n",
    "            modified_line = line\n",
    "            \n",
    "            if line.startswith(\"Cookie:\"):\n",
    "                continue\n",
    "            \n",
    "            new_chunk.append(modified_line)\n",
    "        new_chunks.append(\"\\n\".join(new_chunk))\n",
    "    \n",
    "    return new_chunks\n",
    "\n",
    "print(\"After removing duplicates. Cookie header had random values\")\n",
    "unique_anomaly_chunks = remove_duplicates(filter_headers(all_anomaly_chunks))\n",
    "unique_benign_chunks = remove_duplicates(filter_headers(all_benign_chunks))\n",
    "\n",
    "print(len(filter_headers(all_anomaly_chunks)), len(unique_anomaly_chunks))\n",
    "print(len(filter_headers(all_benign_chunks)), len(unique_benign_chunks))"
   ],
   "metadata": {
    "collapsed": false,
    "ExecuteTime": {
     "end_time": "2024-01-04T18:29:28.012814300Z",
     "start_time": "2024-01-04T18:29:25.435619300Z"
    }
   },
   "id": "7cbaf7088c3ee6ca"
  },
  {
   "cell_type": "markdown",
   "source": [
    "## Append new attack lines to data"
   ],
   "metadata": {
    "collapsed": false
   },
   "id": "aabc6162cb4cc551"
  },
  {
   "cell_type": "code",
   "execution_count": 186,
   "outputs": [
    {
     "data": {
      "text/plain": "(7777, 10000)"
     },
     "execution_count": 186,
     "metadata": {},
     "output_type": "execute_result"
    }
   ],
   "source": [
    "def append_url_lines_to_requests(url_lines: List[str], chunks: List[str], get_only: bool = False) -> List[str]:\n",
    "    new_chunks = []\n",
    "    url_lines_copy = url_lines.copy()\n",
    "    shuffled_chunks = chunks.copy()\n",
    "    np.random.shuffle(shuffled_chunks)\n",
    "    \n",
    "    for chunk in shuffled_chunks:\n",
    "        if len(url_lines_copy) <= 0:\n",
    "            break\n",
    "        \n",
    "        chunk_lines = chunk.split(\"\\n\")\n",
    "        if chunk_lines[0].startswith(\"GET \"):\n",
    "            chunk_lines[0] = f\"GET {url_lines_copy.pop()} HTTP/1.1\"\n",
    "        elif chunk_lines[0].startswith(\"POST \") and not get_only:\n",
    "            append_url = url_lines_copy.pop()\n",
    "            base_url = append_url.split(\"?\")[0]\n",
    "            chunk_lines[-1] = \"\"\n",
    "            \n",
    "            chunk_lines[0] = f\"POST {base_url} HTTP/1.1\"\n",
    "            if len(append_url.split(\"?\")) > 1:\n",
    "                chunk_lines[-1] = append_url[len(base_url)+1:]\n",
    "        else:\n",
    "            continue\n",
    "            \n",
    "        new_chunks.append(\"\\n\".join(chunk_lines))\n",
    "        \n",
    "    return new_chunks\n",
    "    \n",
    "additional_benign_chunks = append_url_lines_to_requests(benign_url_lines, unique_benign_chunks)\n",
    "additional_anomaly_chunks = append_url_lines_to_requests(anomaly_url_lines, unique_benign_chunks, get_only=True)\n",
    "\n",
    "len(additional_benign_chunks), len(additional_anomaly_chunks)"
   ],
   "metadata": {
    "collapsed": false,
    "ExecuteTime": {
     "end_time": "2024-01-04T18:30:07.966721300Z",
     "start_time": "2024-01-04T18:30:07.793909Z"
    }
   },
   "id": "a48e60ad5cbe3e55"
  },
  {
   "cell_type": "code",
   "execution_count": 243,
   "outputs": [
    {
     "data": {
      "text/plain": "['GET http://localhost:8080/tienda1/miembros/editar.jsp?modo=<IMG LOWSRC=\"javascript:alert(\\'CrossSiteScripting\\')\">&nombre=Felisa&apellidos=Lecuona+Gasull&email=priestley%40stockdefotos.vu&dni=02143129N&direccion=C%2F+Garcia+Mosquera%2C+184%2C+&ciudad=Castellanos+de+Moriscos&cp=37254&provincia=Navarra&ntc=6206191254660151&B1=Registrar HTTP/1.1\\nUser-Agent: Mozilla/5.0 (compatible; Konqueror/3.5; Linux) KHTML/3.5.8 (like Gecko)\\nPragma: no-cache\\nCache-control: no-cache\\nAccept: text/xml,application/xml,application/xhtml+xml,text/html;q=0.9,text/plain;q=0.8,image/png,*/*;q=0.5\\nAccept-Encoding: x-gzip, x-deflate, gzip, deflate\\nAccept-Charset: utf-8, utf-8;q=0.5, *;q=0.5\\nAccept-Language: en\\nHost: localhost:8080\\nConnection: close',\n 'GET http://localhost:8080/tienda1/publico/anadir.jsp?id=exp/*<A STYLE=\\'no\\\\xss:noxss(\"*//*\");xss:&#101;x&#x2F;*XSS*//*/*/pression(alert(\"XSS\"))\\'>&precio=100&cantidad=82&B1=A%F1adir+al+carrito HTTP/1.1\\nUser-Agent: Mozilla/5.0 (compatible; Konqueror/3.5; Linux) KHTML/3.5.8 (like Gecko)\\nPragma: no-cache\\nCache-control: no-cache\\nAccept: text/xml,application/xml,application/xhtml+xml,text/html;q=0.9,text/plain;q=0.8,image/png,*/*;q=0.5\\nAccept-Encoding: x-gzip, x-deflate, gzip, deflate\\nAccept-Charset: utf-8, utf-8;q=0.5, *;q=0.5\\nAccept-Language: en\\nHost: localhost:8080\\nConnection: close']"
     },
     "execution_count": 243,
     "metadata": {},
     "output_type": "execute_result"
    }
   ],
   "source": [
    "def append_injection_to_requests(injection_code: List[str], chunks: List[str]) -> List[str]:\n",
    "    new_chunks = []\n",
    "    search_url_params_pattern = \"([&|?]\\w+=[0-9a-zA-Z\\+\\%.*]+)\"\n",
    "    injection_code_copy = injection_code.copy()\n",
    "    shuffled_chunks = chunks.copy()\n",
    "    np.random.shuffle(shuffled_chunks)\n",
    "    \n",
    "    for chunk in shuffled_chunks:\n",
    "        if len(injection_code_copy) <= 0:\n",
    "            break\n",
    "            \n",
    "        chunk_lines = chunk.split(\"\\n\")\n",
    "        first_line =  chunk_lines[0]\n",
    "        \n",
    "        if chunk_lines[0].startswith(\"GET \"):\n",
    "            params = re.findall(search_url_params_pattern, first_line)\n",
    "            \n",
    "            if len(params):\n",
    "                random_param = random.choice(params)\n",
    "                insert_in = first_line.find(random_param) + len(random_param)\n",
    "                \n",
    "                chunk_lines[0] = chunk_lines[0][:insert_in].split(\"=\")[0] + \"=\" + injection_code_copy.pop() + chunk_lines[0][insert_in:] \n",
    "            else:\n",
    "                continue\n",
    "\n",
    "            new_chunks.append(\"\\n\".join(chunk_lines))\n",
    "    \n",
    "    return new_chunks\n",
    "\n",
    "append_injection_to_requests(injection_lines, unique_benign_chunks)[:2]"
   ],
   "metadata": {
    "collapsed": false,
    "ExecuteTime": {
     "end_time": "2024-01-04T20:31:40.196302100Z",
     "start_time": "2024-01-04T20:31:40.090318700Z"
    }
   },
   "id": "bb9a62586fc1accb"
  },
  {
   "cell_type": "code",
   "execution_count": 244,
   "outputs": [
    {
     "data": {
      "text/plain": "'<IMG LOWSRC=\"javascript:alert(\\'CrossSiteScripting\\')\">'"
     },
     "execution_count": 244,
     "metadata": {},
     "output_type": "execute_result"
    }
   ],
   "source": [
    "injection_lines[-1]"
   ],
   "metadata": {
    "collapsed": false,
    "ExecuteTime": {
     "end_time": "2024-01-04T20:31:52.834832600Z",
     "start_time": "2024-01-04T20:31:52.728754100Z"
    }
   },
   "id": "b88700befdf84dba"
  },
  {
   "cell_type": "code",
   "execution_count": 247,
   "outputs": [
    {
     "name": "stdout",
     "output_type": "stream",
     "text": [
      "12805 7777\n",
      "2805 10000 7777\n"
     ]
    }
   ],
   "source": [
    "additional_anomaly_chunks = [\n",
    "    *append_injection_to_requests(injection_lines, unique_benign_chunks),\n",
    "    *append_url_lines_to_requests(anomaly_url_lines, unique_benign_chunks, get_only=True)\n",
    "]\n",
    "additional_benign_chunks = append_url_lines_to_requests(benign_url_lines, unique_benign_chunks)\n",
    "\n",
    "print(len(additional_anomaly_chunks), len(additional_benign_chunks))\n",
    "print(len(injection_lines), len(anomaly_url_lines), len(benign_url_lines))"
   ],
   "metadata": {
    "collapsed": false,
    "ExecuteTime": {
     "end_time": "2024-01-04T20:34:35.891065200Z",
     "start_time": "2024-01-04T20:34:35.686956800Z"
    }
   },
   "id": "42174ae681f7e084"
  },
  {
   "cell_type": "markdown",
   "source": [
    "# Save data"
   ],
   "metadata": {
    "collapsed": false
   },
   "id": "e04a0599be62f280"
  },
  {
   "cell_type": "code",
   "execution_count": 251,
   "outputs": [
    {
     "name": "stdout",
     "output_type": "stream",
     "text": [
      "29350 29818\n",
      "29350 29818\n",
      "No duplicates, data is balanced\n"
     ]
    }
   ],
   "source": [
    "final_anomaly_chunks = [\n",
    "    *additional_anomaly_chunks,\n",
    "    *unique_anomaly_chunks,\n",
    "]\n",
    "final_benign_chunks = [\n",
    "    *additional_benign_chunks,\n",
    "    *unique_benign_chunks,\n",
    "]\n",
    "\n",
    "print(len(final_benign_chunks), len(final_anomaly_chunks))\n",
    "print(len(remove_duplicates(final_benign_chunks)), len(remove_duplicates(final_anomaly_chunks)))\n",
    "print(\"No duplicates, data is balanced\")"
   ],
   "metadata": {
    "collapsed": false,
    "ExecuteTime": {
     "end_time": "2024-01-04T20:40:05.030986200Z",
     "start_time": "2024-01-04T20:40:04.902914300Z"
    }
   },
   "id": "a7abfc437ad6d893"
  },
  {
   "cell_type": "markdown",
   "source": [
    "Shuffle and create .csv"
   ],
   "metadata": {
    "collapsed": false
   },
   "id": "88f770f52453237b"
  },
  {
   "cell_type": "code",
   "execution_count": 261,
   "outputs": [
    {
     "data": {
      "text/plain": "[1, 1, 1, 1, 1, 1, 1, 1, 1, 1]"
     },
     "execution_count": 261,
     "metadata": {},
     "output_type": "execute_result"
    }
   ],
   "source": [
    "[1] * 10"
   ],
   "metadata": {
    "collapsed": false,
    "ExecuteTime": {
     "end_time": "2024-01-04T20:52:43.838090Z",
     "start_time": "2024-01-04T20:52:43.711391500Z"
    }
   },
   "id": "452c9e79d9615b2e"
  },
  {
   "cell_type": "code",
   "execution_count": null,
   "outputs": [],
   "source": [
    "np.random.shuffle(final_benign_chunks)\n",
    "np.random.shuffle(final_anomaly_chunks)\n",
    "\n"
   ],
   "metadata": {
    "collapsed": false
   },
   "id": "24e7a3db0b61de87"
  },
  {
   "cell_type": "code",
   "execution_count": 262,
   "outputs": [],
   "source": [
    "benign_y = [1] * len(final_benign_chunks)\n",
    "anomaly_y = [0] * len(final_anomaly_chunks)\n",
    "\n",
    "data = {\n",
    "    \"text\": [*final_benign_chunks, *final_anomaly_chunks],\n",
    "    \"benign\": [*benign_y, *anomaly_y]\n",
    "}\n",
    "df = pd.DataFrame(data)"
   ],
   "metadata": {
    "collapsed": false,
    "ExecuteTime": {
     "end_time": "2024-01-04T20:54:51.902757800Z",
     "start_time": "2024-01-04T20:54:51.825223900Z"
    }
   },
   "id": "66b3fca3ce2a556"
  },
  {
   "cell_type": "code",
   "execution_count": 266,
   "outputs": [],
   "source": [
    "df.to_csv(\"./../../data/processed/01-04-2024-full-balanced.csv\", index=False)"
   ],
   "metadata": {
    "collapsed": false,
    "ExecuteTime": {
     "end_time": "2024-01-04T21:00:57.480898900Z",
     "start_time": "2024-01-04T21:00:54.470991700Z"
    }
   },
   "id": "6d933573276ec78a"
  }
 ],
 "metadata": {
  "kernelspec": {
   "display_name": "Python 3",
   "language": "python",
   "name": "python3"
  },
  "language_info": {
   "codemirror_mode": {
    "name": "ipython",
    "version": 2
   },
   "file_extension": ".py",
   "mimetype": "text/x-python",
   "name": "python",
   "nbconvert_exporter": "python",
   "pygments_lexer": "ipython2",
   "version": "2.7.6"
  }
 },
 "nbformat": 4,
 "nbformat_minor": 5
}
