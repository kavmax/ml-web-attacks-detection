{
 "cells": [
  {
   "cell_type": "markdown",
   "source": [
    "# Imports"
   ],
   "metadata": {
    "collapsed": false
   },
   "id": "3b70641989a9b1d6"
  },
  {
   "cell_type": "code",
   "execution_count": 3,
   "id": "initial_id",
   "metadata": {
    "collapsed": true,
    "ExecuteTime": {
     "end_time": "2024-01-12T19:27:22.203638Z",
     "start_time": "2024-01-12T19:27:01.235360300Z"
    }
   },
   "outputs": [],
   "source": [
    "import torch\n",
    "\n",
    "from transformers import AutoTokenizer, AutoModelForSequenceClassification\n",
    "from transformers import pipeline"
   ]
  },
  {
   "cell_type": "markdown",
   "source": [
    "# Config"
   ],
   "metadata": {
    "collapsed": false
   },
   "id": "67401784ad180c85"
  },
  {
   "cell_type": "code",
   "execution_count": 4,
   "outputs": [],
   "source": [
    "models_save_dir = \"./../models/\"\n",
    "device = torch.device(\"cuda\" if torch.cuda.is_available() else \"cpu\")"
   ],
   "metadata": {
    "collapsed": false,
    "ExecuteTime": {
     "end_time": "2024-01-12T19:27:26.482719500Z",
     "start_time": "2024-01-12T19:27:26.470711700Z"
    }
   },
   "id": "8413c20a9ed14f8d"
  },
  {
   "cell_type": "markdown",
   "source": [
    "# Select model"
   ],
   "metadata": {
    "collapsed": false
   },
   "id": "dd2945c7ae39e19b"
  },
  {
   "cell_type": "code",
   "execution_count": 5,
   "outputs": [],
   "source": [
    "def get_pipeline(tokenizer_name: str, model_name: str):\n",
    "    tokenizer = AutoTokenizer.from_pretrained(models_save_dir + tokenizer_name)\n",
    "    tokenizer.model_max_length = 512\n",
    "    model = AutoModelForSequenceClassification.from_pretrained(models_save_dir + model_name).to(device)\n",
    "    return pipeline(\"text-classification\", model=model, tokenizer=tokenizer, device=device)\n",
    "    \n",
    "classifier_4_39_nosql_e1_extended = get_pipeline(tokenizer_name=\"bert-tiny-4.39m-nosql-e1-extended\", model_name=\"bert-tiny-4.39m-nosql-e1-extended\")\n",
    "classifier_4_39_nosql_e50 = get_pipeline(tokenizer_name=\"bert-tiny-4.39m-sql-e70\", model_name=\"bert-tiny-4.39m-sql-e70\")"
   ],
   "metadata": {
    "collapsed": false,
    "ExecuteTime": {
     "end_time": "2024-01-12T19:27:31.737876400Z",
     "start_time": "2024-01-12T19:27:29.183075900Z"
    }
   },
   "id": "b8aea1f01543a298"
  },
  {
   "cell_type": "code",
   "execution_count": 31,
   "outputs": [
    {
     "data": {
      "text/plain": "([{'label': 'LABEL_0', 'score': 0.9995361566543579}],)"
     },
     "execution_count": 31,
     "metadata": {},
     "output_type": "execute_result"
    }
   ],
   "source": [
    "classifier_4_39_nosql_e1_extended.predict(\"\"\"\n",
    "GET http://localhost:8080/tienda1/publico/autenticar.jsp?modo=entrar&login=arabella&pwd=Em8o0a2&remember=<script>off&B1=Entrar HTTP/1.1\n",
    "User-Agent: Mozilla/5.0 (compatible; Konqueror/3.5; Linux) KHTML/3.5.8 (like Gecko)\n",
    "Pragma: no-cache\n",
    "Cache-control: no-cache\n",
    "Accept: text/xml,application/xml,application/xhtml+xml,text/html;q=0.9,text/plain;q=0.8,image/png,*/*;q=0.5\n",
    "Accept-Encoding: x-gzip, x-deflate, gzip, deflate\n",
    "Accept-Charset: utf-8, utf-8;q=0.5, *;q=0.5\n",
    "Accept-Language: en\n",
    "Host: localhost:8080\n",
    "Connection: close\n",
    "\"\"\"),"
   ],
   "metadata": {
    "collapsed": false,
    "ExecuteTime": {
     "end_time": "2024-01-12T19:49:25.817490100Z",
     "start_time": "2024-01-12T19:49:25.738939200Z"
    }
   },
   "id": "ea639f8983dc7fc"
  },
  {
   "cell_type": "code",
   "execution_count": null,
   "outputs": [],
   "source": [],
   "metadata": {
    "collapsed": false
   },
   "id": "a471906563d25226"
  }
 ],
 "metadata": {
  "kernelspec": {
   "display_name": "Python 3",
   "language": "python",
   "name": "python3"
  },
  "language_info": {
   "codemirror_mode": {
    "name": "ipython",
    "version": 2
   },
   "file_extension": ".py",
   "mimetype": "text/x-python",
   "name": "python",
   "nbconvert_exporter": "python",
   "pygments_lexer": "ipython2",
   "version": "2.7.6"
  }
 },
 "nbformat": 4,
 "nbformat_minor": 5
}
